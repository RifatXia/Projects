{
  "cells": [
    {
      "cell_type": "markdown",
      "metadata": {
        "id": "view-in-github",
        "colab_type": "text"
      },
      "source": [
        "<a href=\"https://colab.research.google.com/github/RifatXia/Projects/blob/master/Question_3.ipynb\" target=\"_parent\"><img src=\"https://colab.research.google.com/assets/colab-badge.svg\" alt=\"Open In Colab\"/></a>"
      ]
    },
    {
      "cell_type": "code",
      "execution_count": 1,
      "metadata": {
        "colab": {
          "base_uri": "https://localhost:8080/"
        },
        "id": "XseUgTiPUIOK",
        "outputId": "3de253eb-bff0-40a1-b4af-746b9fa9201d"
      },
      "outputs": [
        {
          "output_type": "stream",
          "name": "stdout",
          "text": [
            "Mounted at /content/drive\n",
            "train images shape: (40000, 32, 32, 3)\n",
            "validation images shape: (10000, 32, 32, 3)\n",
            "test images shape: (10000, 32, 32, 3)\n"
          ]
        }
      ],
      "source": [
        "# loading CIFAR-10 dataset\n",
        "\n",
        "from google.colab import drive\n",
        "import pickle\n",
        "import numpy as np\n",
        "import os\n",
        "\n",
        "# mount google drive to access files\n",
        "drive.mount('/content/drive')\n",
        "\n",
        "# function to load a single batch of cifar-10 data\n",
        "def load_cifar10_batch(file):\n",
        "    with open(file, 'rb') as f:\n",
        "        batch = pickle.load(f, encoding='bytes')\n",
        "        images = batch[b'data']\n",
        "        labels = batch[b'labels']\n",
        "    images = images.reshape(-1, 3, 32, 32).transpose(0, 2, 3, 1)\n",
        "    return images, np.array(labels)\n",
        "\n",
        "# load all training batches\n",
        "data_dir = \"/content/drive/My Drive/dataset/cifar-10/cifar-10-batches-py/\"\n",
        "train_images, train_labels = [], []\n",
        "\n",
        "for i in range(1, 6):\n",
        "    file_path = os.path.join(data_dir, f\"data_batch_{i}\")\n",
        "    images, labels = load_cifar10_batch(file_path)\n",
        "    train_images.append(images)\n",
        "    train_labels.append(labels)\n",
        "\n",
        "train_images = np.concatenate(train_images)\n",
        "train_labels = np.concatenate(train_labels)\n",
        "\n",
        "# load the test batch\n",
        "test_images, test_labels = load_cifar10_batch(os.path.join(data_dir, \"test_batch\"))\n",
        "\n",
        "# split training data into training and validation sets\n",
        "val_split = 0.2  # 20% for validation\n",
        "num_val_samples = int(len(train_images) * val_split)\n",
        "val_images = train_images[:num_val_samples]\n",
        "val_labels = train_labels[:num_val_samples]\n",
        "train_images = train_images[num_val_samples:]\n",
        "train_labels = train_labels[num_val_samples:]\n",
        "\n",
        "print(f\"train images shape: {train_images.shape}\")\n",
        "print(f\"validation images shape: {val_images.shape}\")\n",
        "print(f\"test images shape: {test_images.shape}\")\n",
        "\n",
        "# normalize pixel values to range [0, 1]\n",
        "train_images = train_images.astype('float32') / 255.0\n",
        "val_images = val_images.astype('float32') / 255.0\n",
        "test_images = test_images.astype('float32') / 255.0"
      ]
    },
    {
      "cell_type": "code",
      "execution_count": 2,
      "metadata": {
        "colab": {
          "base_uri": "https://localhost:8080/"
        },
        "id": "hHQTe2caaC-Y",
        "outputId": "2e376b7d-e5d1-43a5-a8e0-952d71cda110"
      },
      "outputs": [
        {
          "output_type": "stream",
          "name": "stdout",
          "text": [
            "Epoch 1/10\n",
            "\u001b[1m1250/1250\u001b[0m \u001b[32m━━━━━━━━━━━━━━━━━━━━\u001b[0m\u001b[37m\u001b[0m \u001b[1m16s\u001b[0m 7ms/step - accuracy: 0.4747 - loss: 1.5005 - val_accuracy: 0.6261 - val_loss: 1.0617\n",
            "Epoch 2/10\n",
            "\u001b[1m1250/1250\u001b[0m \u001b[32m━━━━━━━━━━━━━━━━━━━━\u001b[0m\u001b[37m\u001b[0m \u001b[1m14s\u001b[0m 5ms/step - accuracy: 0.6969 - loss: 0.8703 - val_accuracy: 0.6302 - val_loss: 1.0528\n",
            "Epoch 3/10\n",
            "\u001b[1m1250/1250\u001b[0m \u001b[32m━━━━━━━━━━━━━━━━━━━━\u001b[0m\u001b[37m\u001b[0m \u001b[1m9s\u001b[0m 4ms/step - accuracy: 0.7602 - loss: 0.6729 - val_accuracy: 0.6976 - val_loss: 0.9036\n",
            "Epoch 4/10\n",
            "\u001b[1m1250/1250\u001b[0m \u001b[32m━━━━━━━━━━━━━━━━━━━━\u001b[0m\u001b[37m\u001b[0m \u001b[1m11s\u001b[0m 5ms/step - accuracy: 0.8216 - loss: 0.5128 - val_accuracy: 0.6815 - val_loss: 1.0656\n",
            "Epoch 5/10\n",
            "\u001b[1m1250/1250\u001b[0m \u001b[32m━━━━━━━━━━━━━━━━━━━━\u001b[0m\u001b[37m\u001b[0m \u001b[1m10s\u001b[0m 5ms/step - accuracy: 0.8663 - loss: 0.3835 - val_accuracy: 0.7132 - val_loss: 0.9392\n",
            "Epoch 6/10\n",
            "\u001b[1m1250/1250\u001b[0m \u001b[32m━━━━━━━━━━━━━━━━━━━━\u001b[0m\u001b[37m\u001b[0m \u001b[1m10s\u001b[0m 5ms/step - accuracy: 0.9067 - loss: 0.2747 - val_accuracy: 0.7300 - val_loss: 0.8954\n",
            "Epoch 7/10\n",
            "\u001b[1m1250/1250\u001b[0m \u001b[32m━━━━━━━━━━━━━━━━━━━━\u001b[0m\u001b[37m\u001b[0m \u001b[1m10s\u001b[0m 5ms/step - accuracy: 0.9295 - loss: 0.2064 - val_accuracy: 0.7324 - val_loss: 1.0435\n",
            "Epoch 8/10\n",
            "\u001b[1m1250/1250\u001b[0m \u001b[32m━━━━━━━━━━━━━━━━━━━━\u001b[0m\u001b[37m\u001b[0m \u001b[1m7s\u001b[0m 5ms/step - accuracy: 0.9454 - loss: 0.1606 - val_accuracy: 0.7435 - val_loss: 1.0775\n",
            "Epoch 9/10\n",
            "\u001b[1m1250/1250\u001b[0m \u001b[32m━━━━━━━━━━━━━━━━━━━━\u001b[0m\u001b[37m\u001b[0m \u001b[1m5s\u001b[0m 4ms/step - accuracy: 0.9490 - loss: 0.1404 - val_accuracy: 0.7281 - val_loss: 1.0846\n",
            "Epoch 10/10\n",
            "\u001b[1m1250/1250\u001b[0m \u001b[32m━━━━━━━━━━━━━━━━━━━━\u001b[0m\u001b[37m\u001b[0m \u001b[1m11s\u001b[0m 5ms/step - accuracy: 0.9600 - loss: 0.1129 - val_accuracy: 0.7175 - val_loss: 1.3633\n",
            "\u001b[1m313/313\u001b[0m \u001b[32m━━━━━━━━━━━━━━━━━━━━\u001b[0m\u001b[37m\u001b[0m \u001b[1m1s\u001b[0m 2ms/step - accuracy: 0.7181 - loss: 1.3571\n",
            "validation accuracy: 0.7174999713897705\n"
          ]
        }
      ],
      "source": [
        "# basic cnn model for cifar-10\n",
        "\n",
        "import tensorflow as tf\n",
        "from tensorflow.keras import layers, models\n",
        "\n",
        "# build the cnn model\n",
        "cnn_model_cifar10 = models.Sequential()\n",
        "\n",
        "# add an input layer to avoid warnings\n",
        "cnn_model_cifar10.add(layers.Input(shape=(32, 32, 3)))\n",
        "\n",
        "# first convolution block\n",
        "cnn_model_cifar10.add(layers.Conv2D(32, (3, 3), activation='relu', padding='same'))\n",
        "cnn_model_cifar10.add(layers.MaxPooling2D((2, 2)))\n",
        "cnn_model_cifar10.add(layers.BatchNormalization())\n",
        "\n",
        "# second convolution block\n",
        "cnn_model_cifar10.add(layers.Conv2D(64, (3, 3), activation='relu', padding='same'))\n",
        "cnn_model_cifar10.add(layers.MaxPooling2D((2, 2)))\n",
        "cnn_model_cifar10.add(layers.BatchNormalization())\n",
        "\n",
        "# third convolution block\n",
        "cnn_model_cifar10.add(layers.Conv2D(128, (3, 3), activation='relu', padding='same'))\n",
        "cnn_model_cifar10.add(layers.MaxPooling2D((2, 2)))\n",
        "cnn_model_cifar10.add(layers.BatchNormalization())\n",
        "\n",
        "# flatten the output and pass through dense layers\n",
        "cnn_model_cifar10.add(layers.Flatten())\n",
        "cnn_model_cifar10.add(layers.Dense(128, activation='relu'))\n",
        "cnn_model_cifar10.add(layers.Dense(10, activation='softmax'))  # 10 classes in cifar-10\n",
        "\n",
        "# compile the model\n",
        "cnn_model_cifar10.compile(optimizer='adam',\n",
        "                           loss='sparse_categorical_crossentropy',\n",
        "                           metrics=['accuracy'])\n",
        "\n",
        "# train the model\n",
        "history_cifar10 = cnn_model_cifar10.fit(train_images, train_labels, epochs=10,\n",
        "                    validation_data=(val_images, val_labels))\n",
        "\n",
        "# evaluate the model on the validation set\n",
        "val_loss, val_acc = cnn_model_cifar10.evaluate(val_images, val_labels)\n",
        "print(f\"validation accuracy: {val_acc}\")"
      ]
    },
    {
      "cell_type": "code",
      "execution_count": 3,
      "metadata": {
        "colab": {
          "base_uri": "https://localhost:8080/"
        },
        "id": "n1LqmDN4aeq8",
        "outputId": "cee6f943-cd3b-4f0f-f279-b58777a25711"
      },
      "outputs": [
        {
          "output_type": "stream",
          "name": "stdout",
          "text": [
            "Epoch 1/10\n",
            "\u001b[1m1250/1250\u001b[0m \u001b[32m━━━━━━━━━━━━━━━━━━━━\u001b[0m\u001b[37m\u001b[0m \u001b[1m31s\u001b[0m 16ms/step - accuracy: 0.4671 - loss: 1.6288 - val_accuracy: 0.6479 - val_loss: 0.9993\n",
            "Epoch 2/10\n",
            "\u001b[1m1250/1250\u001b[0m \u001b[32m━━━━━━━━━━━━━━━━━━━━\u001b[0m\u001b[37m\u001b[0m \u001b[1m33s\u001b[0m 14ms/step - accuracy: 0.6937 - loss: 0.8726 - val_accuracy: 0.7003 - val_loss: 0.8786\n",
            "Epoch 3/10\n",
            "\u001b[1m1250/1250\u001b[0m \u001b[32m━━━━━━━━━━━━━━━━━━━━\u001b[0m\u001b[37m\u001b[0m \u001b[1m16s\u001b[0m 13ms/step - accuracy: 0.7679 - loss: 0.6626 - val_accuracy: 0.6940 - val_loss: 0.8837\n",
            "Epoch 4/10\n",
            "\u001b[1m1250/1250\u001b[0m \u001b[32m━━━━━━━━━━━━━━━━━━━━\u001b[0m\u001b[37m\u001b[0m \u001b[1m21s\u001b[0m 14ms/step - accuracy: 0.8277 - loss: 0.4935 - val_accuracy: 0.7537 - val_loss: 0.7844\n",
            "Epoch 5/10\n",
            "\u001b[1m1250/1250\u001b[0m \u001b[32m━━━━━━━━━━━━━━━━━━━━\u001b[0m\u001b[37m\u001b[0m \u001b[1m20s\u001b[0m 13ms/step - accuracy: 0.8778 - loss: 0.3502 - val_accuracy: 0.7287 - val_loss: 0.9244\n",
            "Epoch 6/10\n",
            "\u001b[1m1250/1250\u001b[0m \u001b[32m━━━━━━━━━━━━━━━━━━━━\u001b[0m\u001b[37m\u001b[0m \u001b[1m20s\u001b[0m 13ms/step - accuracy: 0.9201 - loss: 0.2331 - val_accuracy: 0.7149 - val_loss: 1.0434\n",
            "Epoch 7/10\n",
            "\u001b[1m1250/1250\u001b[0m \u001b[32m━━━━━━━━━━━━━━━━━━━━\u001b[0m\u001b[37m\u001b[0m \u001b[1m20s\u001b[0m 13ms/step - accuracy: 0.9429 - loss: 0.1644 - val_accuracy: 0.7067 - val_loss: 1.1765\n",
            "Epoch 8/10\n",
            "\u001b[1m1250/1250\u001b[0m \u001b[32m━━━━━━━━━━━━━━━━━━━━\u001b[0m\u001b[37m\u001b[0m \u001b[1m17s\u001b[0m 14ms/step - accuracy: 0.9529 - loss: 0.1344 - val_accuracy: 0.6917 - val_loss: 1.6648\n",
            "Epoch 9/10\n",
            "\u001b[1m1250/1250\u001b[0m \u001b[32m━━━━━━━━━━━━━━━━━━━━\u001b[0m\u001b[37m\u001b[0m \u001b[1m16s\u001b[0m 13ms/step - accuracy: 0.9627 - loss: 0.1058 - val_accuracy: 0.7548 - val_loss: 1.0001\n",
            "Epoch 10/10\n",
            "\u001b[1m1250/1250\u001b[0m \u001b[32m━━━━━━━━━━━━━━━━━━━━\u001b[0m\u001b[37m\u001b[0m \u001b[1m20s\u001b[0m 13ms/step - accuracy: 0.9648 - loss: 0.0979 - val_accuracy: 0.7398 - val_loss: 1.1843\n",
            "\u001b[1m313/313\u001b[0m \u001b[32m━━━━━━━━━━━━━━━━━━━━\u001b[0m\u001b[37m\u001b[0m \u001b[1m2s\u001b[0m 6ms/step - accuracy: 0.7419 - loss: 1.1776\n",
            "validation accuracy: 0.7398\n"
          ]
        }
      ],
      "source": [
        "# replacing the convolution block with inception block for cifar-10\n",
        "\n",
        "import tensorflow as tf\n",
        "from tensorflow.keras import layers, models\n",
        "\n",
        "# define an inception block\n",
        "def inception_block(x, filters):\n",
        "    # 1x1 convolution\n",
        "    conv1x1 = layers.Conv2D(filters, (1, 1), padding='same', activation='relu')(x)\n",
        "\n",
        "    # 3x3 convolution\n",
        "    conv3x3 = layers.Conv2D(filters, (3, 3), padding='same', activation='relu')(x)\n",
        "\n",
        "    # 5x5 convolution\n",
        "    conv5x5 = layers.Conv2D(filters, (5, 5), padding='same', activation='relu')(x)\n",
        "\n",
        "    # max pooling followed by 1x1 convolution\n",
        "    max_pool = layers.MaxPooling2D((3, 3), strides=(1, 1), padding='same')(x)\n",
        "    max_pool_conv = layers.Conv2D(filters, (1, 1), padding='same', activation='relu')(max_pool)\n",
        "\n",
        "    # concatenate all the outputs\n",
        "    output = layers.Concatenate(axis=-1)([conv1x1, conv3x3, conv5x5, max_pool_conv])\n",
        "    return output\n",
        "\n",
        "# build the model using the functional api\n",
        "inputs = layers.Input(shape=(32, 32, 3))\n",
        "\n",
        "# first inception block\n",
        "x = inception_block(inputs, 32)\n",
        "x = layers.MaxPooling2D((2, 2))(x)\n",
        "x = layers.BatchNormalization()(x)\n",
        "\n",
        "# second inception block\n",
        "x = inception_block(x, 64)\n",
        "x = layers.MaxPooling2D((2, 2))(x)\n",
        "x = layers.BatchNormalization()(x)\n",
        "\n",
        "# third inception block\n",
        "x = inception_block(x, 128)\n",
        "x = layers.MaxPooling2D((2, 2))(x)\n",
        "x = layers.BatchNormalization()(x)\n",
        "\n",
        "# flatten and pass through dense layers\n",
        "x = layers.Flatten()(x)\n",
        "x = layers.Dense(128, activation='relu')(x)\n",
        "outputs = layers.Dense(10, activation='softmax')(x)  # 10 classes for cifar-10\n",
        "\n",
        "# create the model\n",
        "cnn_model_inception_cifar10 = models.Model(inputs=inputs, outputs=outputs)\n",
        "\n",
        "# compile the model\n",
        "cnn_model_inception_cifar10.compile(optimizer='adam',\n",
        "                                     loss='sparse_categorical_crossentropy',\n",
        "                                     metrics=['accuracy'])\n",
        "\n",
        "# train the model\n",
        "history_inception_cifar10 = cnn_model_inception_cifar10.fit(train_images, train_labels, epochs=10,\n",
        "                                                             validation_data=(val_images, val_labels))\n",
        "\n",
        "# evaluate the model on the validation set\n",
        "val_loss, val_acc = cnn_model_inception_cifar10.evaluate(val_images, val_labels)\n",
        "print(f\"validation accuracy: {val_acc:.4f}\")\n"
      ]
    },
    {
      "cell_type": "code",
      "execution_count": 4,
      "metadata": {
        "colab": {
          "base_uri": "https://localhost:8080/"
        },
        "id": "LZWMC4swbmTy",
        "outputId": "6d56b7a7-9337-4b70-bbe8-4dde746f366d"
      },
      "outputs": [
        {
          "output_type": "stream",
          "name": "stdout",
          "text": [
            "Epoch 1/10\n",
            "\u001b[1m1250/1250\u001b[0m \u001b[32m━━━━━━━━━━━━━━━━━━━━\u001b[0m\u001b[37m\u001b[0m \u001b[1m20s\u001b[0m 9ms/step - accuracy: 0.4456 - loss: 1.5495 - val_accuracy: 0.6837 - val_loss: 0.8966\n",
            "Epoch 2/10\n",
            "\u001b[1m1250/1250\u001b[0m \u001b[32m━━━━━━━━━━━━━━━━━━━━\u001b[0m\u001b[37m\u001b[0m \u001b[1m10s\u001b[0m 8ms/step - accuracy: 0.7192 - loss: 0.8007 - val_accuracy: 0.7103 - val_loss: 0.8349\n",
            "Epoch 3/10\n",
            "\u001b[1m1250/1250\u001b[0m \u001b[32m━━━━━━━━━━━━━━━━━━━━\u001b[0m\u001b[37m\u001b[0m \u001b[1m10s\u001b[0m 8ms/step - accuracy: 0.7880 - loss: 0.6135 - val_accuracy: 0.7595 - val_loss: 0.7086\n",
            "Epoch 4/10\n",
            "\u001b[1m1250/1250\u001b[0m \u001b[32m━━━━━━━━━━━━━━━━━━━━\u001b[0m\u001b[37m\u001b[0m \u001b[1m9s\u001b[0m 8ms/step - accuracy: 0.8355 - loss: 0.4730 - val_accuracy: 0.7312 - val_loss: 0.8198\n",
            "Epoch 5/10\n",
            "\u001b[1m1250/1250\u001b[0m \u001b[32m━━━━━━━━━━━━━━━━━━━━\u001b[0m\u001b[37m\u001b[0m \u001b[1m9s\u001b[0m 7ms/step - accuracy: 0.8665 - loss: 0.3779 - val_accuracy: 0.7563 - val_loss: 0.7530\n",
            "Epoch 6/10\n",
            "\u001b[1m1250/1250\u001b[0m \u001b[32m━━━━━━━━━━━━━━━━━━━━\u001b[0m\u001b[37m\u001b[0m \u001b[1m9s\u001b[0m 8ms/step - accuracy: 0.8999 - loss: 0.2853 - val_accuracy: 0.7718 - val_loss: 0.7076\n",
            "Epoch 7/10\n",
            "\u001b[1m1250/1250\u001b[0m \u001b[32m━━━━━━━━━━━━━━━━━━━━\u001b[0m\u001b[37m\u001b[0m \u001b[1m10s\u001b[0m 8ms/step - accuracy: 0.9278 - loss: 0.2109 - val_accuracy: 0.7897 - val_loss: 0.6935\n",
            "Epoch 8/10\n",
            "\u001b[1m1250/1250\u001b[0m \u001b[32m━━━━━━━━━━━━━━━━━━━━\u001b[0m\u001b[37m\u001b[0m \u001b[1m9s\u001b[0m 8ms/step - accuracy: 0.9464 - loss: 0.1600 - val_accuracy: 0.7913 - val_loss: 0.7548\n",
            "Epoch 9/10\n",
            "\u001b[1m1250/1250\u001b[0m \u001b[32m━━━━━━━━━━━━━━━━━━━━\u001b[0m\u001b[37m\u001b[0m \u001b[1m10s\u001b[0m 8ms/step - accuracy: 0.9547 - loss: 0.1287 - val_accuracy: 0.7975 - val_loss: 0.7695\n",
            "Epoch 10/10\n",
            "\u001b[1m1250/1250\u001b[0m \u001b[32m━━━━━━━━━━━━━━━━━━━━\u001b[0m\u001b[37m\u001b[0m \u001b[1m10s\u001b[0m 8ms/step - accuracy: 0.9620 - loss: 0.1067 - val_accuracy: 0.7820 - val_loss: 0.8673\n",
            "\u001b[1m313/313\u001b[0m \u001b[32m━━━━━━━━━━━━━━━━━━━━\u001b[0m\u001b[37m\u001b[0m \u001b[1m1s\u001b[0m 4ms/step - accuracy: 0.7852 - loss: 0.8520\n",
            "validation accuracy: 0.7820\n"
          ]
        }
      ],
      "source": [
        "# replacing the inception block using residual block for cifar-10\n",
        "\n",
        "import tensorflow as tf\n",
        "from tensorflow.keras import layers, models\n",
        "\n",
        "# define a residual block\n",
        "def residual_block(x, filters):\n",
        "    shortcut = x  # save input for the skip connection\n",
        "\n",
        "    # first convolution layer\n",
        "    x = layers.Conv2D(filters, (3, 3), padding='same', activation='relu')(x)\n",
        "    x = layers.BatchNormalization()(x)\n",
        "\n",
        "    # second convolution layer\n",
        "    x = layers.Conv2D(filters, (3, 3), padding='same')(x)\n",
        "    x = layers.BatchNormalization()(x)\n",
        "\n",
        "    # if the number of channels of shortcut and x are different, apply a 1x1 convolution to shortcut\n",
        "    if shortcut.shape[-1] != x.shape[-1]:\n",
        "        shortcut = layers.Conv2D(filters, (1, 1), padding='same')(shortcut)\n",
        "\n",
        "    # skip connection: add input (shortcut) to output\n",
        "    x = layers.Add()([x, shortcut])\n",
        "    x = layers.Activation('relu')(x)\n",
        "\n",
        "    return x\n",
        "\n",
        "# build the model using the functional api\n",
        "inputs = layers.Input(shape=(32, 32, 3))\n",
        "\n",
        "# first residual block\n",
        "x = layers.Conv2D(32, (3, 3), padding='same', activation='relu')(inputs)\n",
        "x = layers.BatchNormalization()(x)\n",
        "x = residual_block(x, 32)\n",
        "x = layers.MaxPooling2D((2, 2))(x)\n",
        "\n",
        "# second residual block\n",
        "x = residual_block(x, 64)\n",
        "x = layers.MaxPooling2D((2, 2))(x)\n",
        "\n",
        "# third residual block\n",
        "x = residual_block(x, 128)\n",
        "x = layers.MaxPooling2D((2, 2))(x)\n",
        "\n",
        "# flatten and pass through dense layers\n",
        "x = layers.Flatten()(x)\n",
        "x = layers.Dense(128, activation='relu')(x)\n",
        "outputs = layers.Dense(10, activation='softmax')(x)  # 10 classes for cifar-10\n",
        "\n",
        "# create the model\n",
        "cnn_model_residual_cifar10 = models.Model(inputs=inputs, outputs=outputs)\n",
        "\n",
        "# compile the model\n",
        "cnn_model_residual_cifar10.compile(optimizer='adam',\n",
        "                                    loss='sparse_categorical_crossentropy',\n",
        "                                    metrics=['accuracy'])\n",
        "\n",
        "# train the model\n",
        "history_residual_cifar10 = cnn_model_residual_cifar10.fit(train_images, train_labels, epochs=10,\n",
        "                                                          validation_data=(val_images, val_labels))\n",
        "\n",
        "# evaluate the model on the validation set\n",
        "val_loss, val_acc = cnn_model_residual_cifar10.evaluate(val_images, val_labels)\n",
        "print(f\"validation accuracy: {val_acc:.4f}\")"
      ]
    },
    {
      "cell_type": "code",
      "execution_count": 5,
      "metadata": {
        "colab": {
          "base_uri": "https://localhost:8080/",
          "height": 385
        },
        "id": "33YkTu-nb6bk",
        "outputId": "4abe5a8e-4432-4c29-b5a7-3de089210513"
      },
      "outputs": [
        {
          "output_type": "stream",
          "name": "stdout",
          "text": [
            "\u001b[1m313/313\u001b[0m \u001b[32m━━━━━━━━━━━━━━━━━━━━\u001b[0m\u001b[37m\u001b[0m \u001b[1m1s\u001b[0m 2ms/step - accuracy: 0.7166 - loss: 1.3426\n",
            "\u001b[1m313/313\u001b[0m \u001b[32m━━━━━━━━━━━━━━━━━━━━\u001b[0m\u001b[37m\u001b[0m \u001b[1m2s\u001b[0m 5ms/step - accuracy: 0.7456 - loss: 1.2345\n",
            "\u001b[1m313/313\u001b[0m \u001b[32m━━━━━━━━━━━━━━━━━━━━\u001b[0m\u001b[37m\u001b[0m \u001b[1m1s\u001b[0m 4ms/step - accuracy: 0.7826 - loss: 0.8886\n",
            "Test Accuracy - CNN Model: 0.7186\n",
            "Test Accuracy - Inception Model: 0.7437\n",
            "Test Accuracy - Residual Model: 0.7757\n"
          ]
        },
        {
          "output_type": "display_data",
          "data": {
            "text/plain": [
              "<Figure size 800x500 with 1 Axes>"
            ],
            "image/png": "[encoded data removed]"
          },
          "metadata": {}
        }
      ],
      "source": [
        "import matplotlib.pyplot as plt\n",
        "\n",
        "# evaluate all models on the test set\n",
        "test_loss_cnn, test_acc_cnn = cnn_model_cifar10.evaluate(test_images, test_labels)\n",
        "test_loss_inception, test_acc_inception = cnn_model_inception_cifar10.evaluate(test_images, test_labels)\n",
        "test_loss_residual, test_acc_residual = cnn_model_residual_cifar10.evaluate(test_images, test_labels)\n",
        "\n",
        "# print test accuracy for each model\n",
        "print(f\"Test Accuracy - CNN Model: {test_acc_cnn:.4f}\")\n",
        "print(f\"Test Accuracy - Inception Model: {test_acc_inception:.4f}\")\n",
        "print(f\"Test Accuracy - Residual Model: {test_acc_residual:.4f}\")\n",
        "\n",
        "# plot comparison graph\n",
        "models = [\"CNN\", \"Inception\", \"Residual\"]\n",
        "accuracy = [test_acc_cnn, test_acc_inception, test_acc_residual]\n",
        "\n",
        "plt.figure(figsize=(8, 5))\n",
        "plt.bar(models, accuracy, color=['blue', 'green', 'red'])\n",
        "plt.ylim(0, 1)\n",
        "plt.xlabel(\"Model Type\")\n",
        "plt.ylabel(\"Test Accuracy\")\n",
        "plt.title(\"Comparison of Model Performance on Test Set\")\n",
        "plt.show()"
      ]
    }
  ],
  "metadata": {
    "accelerator": "GPU",
    "colab": {
      "gpuType": "T4",
      "provenance": [],
      "authorship_tag": "ABX9TyNtCsgu7IAhrV6RC5a6WAV9",
      "include_colab_link": true
    },
    "kernelspec": {
      "display_name": "Python 3",
      "name": "python3"
    },
    "language_info": {
      "name": "python"
    }
  },
  "nbformat": 4,
  "nbformat_minor": 0
}